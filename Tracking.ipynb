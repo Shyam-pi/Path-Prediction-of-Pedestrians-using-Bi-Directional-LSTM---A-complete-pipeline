{
  "nbformat": 4,
  "nbformat_minor": 0,
  "metadata": {
    "colab": {
      "name": "Thesis_Tracking.ipynb",
      "provenance": []
    },
    "kernelspec": {
      "name": "python3",
      "display_name": "Python 3"
    },
    "accelerator": "GPU"
  },
  "cells": [
    {
      "cell_type": "code",
      "metadata": {
        "id": "nu9EldWfzP4d",
        "colab_type": "code",
        "colab": {}
      },
      "source": [
        "#Mounting google drive for workspace\n",
        "from google.colab import drive \n",
        "drive.mount('/content/gdrive')"
      ],
      "execution_count": null,
      "outputs": []
    },
    {
      "cell_type": "code",
      "metadata": {
        "id": "iTjWD138zmz-",
        "colab_type": "code",
        "colab": {}
      },
      "source": [
        "#Change directory to working folder (change address to your own folder's address)\n",
        "%cd /content/gdrive/My Drive/Colab Notebooks/BE Thesis/Prediction"
      ],
      "execution_count": null,
      "outputs": []
    },
    {
      "cell_type": "code",
      "metadata": {
        "id": "nwMoOpftzo6I",
        "colab_type": "code",
        "colab": {}
      },
      "source": [
        "! git clone \"https://github.com/mikel-brostrom/Yolov3_DeepSort_Pytorch.git\""
      ],
      "execution_count": null,
      "outputs": []
    },
    {
      "cell_type": "code",
      "metadata": {
        "id": "gTEK9UK8zuD5",
        "colab_type": "code",
        "colab": {}
      },
      "source": [
        "%cd Yolov3_DeepSort_Pytorch"
      ],
      "execution_count": null,
      "outputs": []
    },
    {
      "cell_type": "code",
      "metadata": {
        "id": "_6KXi_ad0D4O",
        "colab_type": "code",
        "colab": {}
      },
      "source": [
        "#Installing dependencies\n",
        "!pip install -U -r requirements.txt"
      ],
      "execution_count": null,
      "outputs": []
    },
    {
      "cell_type": "markdown",
      "metadata": {
        "id": "XUV67q6gPjJm",
        "colab_type": "text"
      },
      "source": [
        "*Notes for usage of track.py:*\n",
        "\n",
        "```\n",
        "track.py [-h] --source path/to/source_video\n",
        "\n",
        "Arguments:\n",
        "\n",
        "  source  -     Path to the video that is to be inferenced\n",
        "\n",
        "```\n",
        "The generated .csv track file will have the same name as the video file and will be saved in the \"Yolov3_DeepSort_Pytorch\" folder."
      ]
    },
    {
      "cell_type": "code",
      "metadata": {
        "id": "p5HeaM6c0Vgi",
        "colab_type": "code",
        "colab": {}
      },
      "source": [
        "!python track.py --source PNNLParkingLot2.mp4"
      ],
      "execution_count": null,
      "outputs": []
    }
  ]
}