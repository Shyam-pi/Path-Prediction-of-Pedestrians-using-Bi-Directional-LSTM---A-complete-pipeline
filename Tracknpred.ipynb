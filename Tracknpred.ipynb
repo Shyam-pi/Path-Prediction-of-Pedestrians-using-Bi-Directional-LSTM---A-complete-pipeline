{
  "nbformat": 4,
  "nbformat_minor": 0,
  "metadata": {
    "colab": {
      "name": "Thesis_Tracknpred.ipynb",
      "provenance": []
    },
    "kernelspec": {
      "name": "python3",
      "display_name": "Python 3"
    },
    "accelerator": "GPU"
  },
  "cells": [
    {
      "cell_type": "markdown",
      "metadata": {
        "id": "CjamcxDsPWdd",
        "colab_type": "text"
      },
      "source": [
        "**Installing dependencies for Prediction model**"
      ]
    },
    {
      "cell_type": "code",
      "metadata": {
        "id": "uyfFc8VufUyl",
        "colab_type": "code",
        "colab": {}
      },
      "source": [
        "################################################################################\n",
        "# INSTALL CONDA ON GOOGLE COLAB\n",
        "################################################################################\n",
        "! wget https://repo.anaconda.com/miniconda/Miniconda3-py37_4.8.2-Linux-x86_64.sh\n",
        "! chmod +x Miniconda3-py37_4.8.2-Linux-x86_64.sh\n",
        "! bash ./Miniconda3-py37_4.8.2-Linux-x86_64.sh -b -f -p /usr/local\n",
        "import sys\n",
        "sys.path.append('/usr/local/lib/python3.7/site-packages/')"
      ],
      "execution_count": null,
      "outputs": []
    },
    {
      "cell_type": "code",
      "metadata": {
        "id": "Io41rcX8paFP",
        "colab_type": "code",
        "colab": {}
      },
      "source": [
        "#mounting your google drive for further use\n",
        "from google.colab import drive \n",
        "drive.mount('/content/gdrive') "
      ],
      "execution_count": null,
      "outputs": []
    },
    {
      "cell_type": "code",
      "metadata": {
        "id": "bIx1R_o2p0mk",
        "colab_type": "code",
        "colab": {}
      },
      "source": [
        "#Location where you want to create your project\n",
        "%cd /content/gdrive/My Drive/Colab Notebooks/BE Thesis/Prediction "
      ],
      "execution_count": null,
      "outputs": []
    },
    {
      "cell_type": "code",
      "metadata": {
        "id": "TNHJgcCDfPLK",
        "colab_type": "code",
        "colab": {}
      },
      "source": [
        "%cd Keras-LSTM-Trajectory-Prediction"
      ],
      "execution_count": null,
      "outputs": []
    },
    {
      "cell_type": "code",
      "metadata": {
        "id": "Tu-GjP1lfs9Q",
        "colab_type": "code",
        "colab": {}
      },
      "source": [
        "#Installing dependencies\n",
        "!conda env update -f environment.yml \n",
        "!pip install --upgrade progressbar2"
      ],
      "execution_count": null,
      "outputs": []
    },
    {
      "cell_type": "markdown",
      "metadata": {
        "id": "vannQ9tKP76g",
        "colab_type": "text"
      },
      "source": [
        " **Installing dependencies for tracking model**"
      ]
    },
    {
      "cell_type": "code",
      "metadata": {
        "id": "iTjWD138zmz-",
        "colab_type": "code",
        "colab": {}
      },
      "source": [
        "#moving back to project path\n",
        "%cd /content/gdrive/My Drive/Colab Notebooks/BE Thesis/Prediction "
      ],
      "execution_count": null,
      "outputs": []
    },
    {
      "cell_type": "code",
      "metadata": {
        "id": "nwMoOpftzo6I",
        "colab_type": "code",
        "colab": {}
      },
      "source": [
        "#cloning repository for detection and tracking\n",
        "! git clone \"https://github.com/mikel-brostrom/Yolov3_DeepSort_Pytorch.git\" "
      ],
      "execution_count": null,
      "outputs": []
    },
    {
      "cell_type": "code",
      "metadata": {
        "id": "gTEK9UK8zuD5",
        "colab_type": "code",
        "colab": {}
      },
      "source": [
        "%cd Yolov3_DeepSort_Pytorch"
      ],
      "execution_count": null,
      "outputs": []
    },
    {
      "cell_type": "code",
      "metadata": {
        "id": "EVFnATYiVCXL",
        "colab_type": "code",
        "colab": {}
      },
      "source": [
        "!pip install -U setuptools"
      ],
      "execution_count": null,
      "outputs": []
    },
    {
      "cell_type": "code",
      "metadata": {
        "id": "_6KXi_ad0D4O",
        "colab_type": "code",
        "colab": {}
      },
      "source": [
        "!pip install -U numpy\n",
        "!pip install -U matplotlib\n",
        "!pip install -U pycocotools\n",
        "!pip install -U pillow\n",
        "!pip install -U tqdm"
      ],
      "execution_count": null,
      "outputs": []
    },
    {
      "cell_type": "code",
      "metadata": {
        "id": "kLwvHFQzX2Nh",
        "colab_type": "code",
        "colab": {}
      },
      "source": [
        "!pip install opencv-python==4.1.0.25"
      ],
      "execution_count": null,
      "outputs": []
    },
    {
      "cell_type": "code",
      "metadata": {
        "id": "voeJ9g08aftY",
        "colab_type": "code",
        "colab": {}
      },
      "source": [
        "!pip install torch==1.4.0"
      ],
      "execution_count": null,
      "outputs": []
    },
    {
      "cell_type": "code",
      "metadata": {
        "id": "IqtHueIgZGkx",
        "colab_type": "code",
        "colab": {}
      },
      "source": [
        "pip install torchvision==0.6.0"
      ],
      "execution_count": null,
      "outputs": []
    },
    {
      "cell_type": "markdown",
      "metadata": {
        "id": "bFK4_cP0QpIL",
        "colab_type": "text"
      },
      "source": [
        "**Execution**"
      ]
    },
    {
      "cell_type": "markdown",
      "metadata": {
        "id": "pInIBfhHCxAW",
        "colab_type": "text"
      },
      "source": [
        "The video file to be inferred should be uploaded to the \"Yolov3_DeepSort_Pytorch\" folder. "
      ]
    },
    {
      "cell_type": "markdown",
      "metadata": {
        "id": "NEmYlAN6DJoG",
        "colab_type": "text"
      },
      "source": [
        "*Notes for usage of track_with_pred.py:*\n",
        "\n",
        "```\n",
        "track_with_pred.py [-h] --source path/to/source_video --pred_model path/to/prediction_model\n",
        "\n",
        "Arguments:\n",
        "\n",
        "  source     - Path to the video that is to be inferenced\n",
        "\n",
        "  pred_model - Path of the prediction model created using the prediction_training python notebook\n",
        "\n",
        "```\n",
        "Running track_with_pred.py will create a .csv tracking file by the same name of the video in \"Yolov3_DeepSort_Pytorch\" folder. Processed video can be found inside the output folder inside the above mentioned folder."
      ]
    },
    {
      "cell_type": "code",
      "metadata": {
        "id": "p5HeaM6c0Vgi",
        "colab_type": "code",
        "colab": {}
      },
      "source": [
        "#source must be the path of your video file. The video should be in mp4 format\n",
        "!python track_with_pred.py --source PNNLParkingLot2.mp4 --pred_model /content/gdrive/My\\ Drive/Colab\\ Notebooks/BE\\ Thesis/Prediction/Keras-LSTM-Trajectory-Prediction/model_output/ARCH--15i_30o_10sld_norm3_vill_cascade2-_Data-_final_concat512___bs-512_lr-0.01_loss-mae_opt-Ranger_BD-True_BDmrg-concat_amsG-False_DP-False_sw-0.9_sync-1_act-selu_minLR-1e-05_ptc-10_ep-100"
      ],
      "execution_count": null,
      "outputs": []
    }
  ]
}